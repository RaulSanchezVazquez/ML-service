{
 "cells": [
  {
   "cell_type": "code",
   "execution_count": 5,
   "metadata": {},
   "outputs": [],
   "source": [
    "import os\n",
    "import json\n",
    "import urllib3\n",
    "\n",
    "http = urllib3.PoolManager()"
   ]
  },
  {
   "cell_type": "code",
   "execution_count": 6,
   "metadata": {},
   "outputs": [
    {
     "data": {
      "text/plain": [
       "{'version': '1.1.0'}"
      ]
     },
     "execution_count": 6,
     "metadata": {},
     "output_type": "execute_result"
    }
   ],
   "source": [
    "response = http.request(\n",
    "     'GET',\n",
    "     'http://0.0.0.0:5000',\n",
    "     headers={'Content-Type': 'application/json'})\n",
    "\n",
    "response = json.loads(\n",
    "    response.data.decode('utf-8'))\n",
    "\n",
    "response"
   ]
  },
  {
   "cell_type": "code",
   "execution_count": 7,
   "metadata": {},
   "outputs": [
    {
     "data": {
      "text/plain": [
       "{'execution_time': 0.027515649795532227,\n",
       " 'order_id': 1,\n",
       " 'store_id': 2,\n",
       " 'version': '1.1.0',\n",
       " 'x': '{\"store_id\": NaN, \"to_user_distance\": 0.0, \"to_user_elevation\": 0.0, \"total_earning\": 10000.0, \"weekday\": 0.9083583369052722}',\n",
       " 'x_raw': '{\"order_id\": \"1\", \"store_id\": \"2\", \"to_user_distance\": 0.0, \"to_user_elevation\": 0.0, \"total_earning\": 10000.0, \"created_at\": \"2020-09-07 20:02:17+00:00\", \"weekday\": \"Monday\"}',\n",
       " 'y_score': 0.31567850708961487}"
      ]
     },
     "execution_count": 7,
     "metadata": {},
     "output_type": "execute_result"
    }
   ],
   "source": [
    "body = {\n",
    "    'order_id': 1,\n",
    "    'store_id': 2,\n",
    "    'to_user_distance': 0.0,\n",
    "    'to_user_elevation': 0.0,\n",
    "    'total_earning': 10000,\n",
    "    'created_at': '2020-09-07T20:02:17Z'}\n",
    "\n",
    "response = http.request(\n",
    "    'POST',\n",
    "    'http://0.0.0.0:5000/score',\n",
    "    body=json.dumps(body).encode('utf-8'),\n",
    "    headers={'Content-Type': 'application/json'})\n",
    "\n",
    "response = json.loads(\n",
    "    response.data.decode('utf-8'))\n",
    "\n",
    "response"
   ]
  },
  {
   "cell_type": "code",
   "execution_count": null,
   "metadata": {},
   "outputs": [],
   "source": []
  }
 ],
 "metadata": {
  "kernelspec": {
   "display_name": "Python 3",
   "language": "python",
   "name": "python3"
  },
  "language_info": {
   "codemirror_mode": {
    "name": "ipython",
    "version": 3
   },
   "file_extension": ".py",
   "mimetype": "text/x-python",
   "name": "python",
   "nbconvert_exporter": "python",
   "pygments_lexer": "ipython3",
   "version": "3.7.3"
  }
 },
 "nbformat": 4,
 "nbformat_minor": 2
}
